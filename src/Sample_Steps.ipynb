{
 "cells": [
  {
   "cell_type": "code",
   "execution_count": 2,
   "metadata": {},
   "outputs": [],
   "source": [
    "# Step 0. Load libraries and modules\n",
    "import pandas as pd\n",
    "import numpy as np\n",
    "import matplotlib.pyplot as plt\n",
    "import plotly.express as px\n",
    "import statsmodels.formula.api as smf\n",
    "from sklearn.linear_model import LinearRegression\n",
    "from sklearn.preprocessing import MinMaxScaler\n",
    "from sklearn.model_selection import train_test_split\n",
    "from sklearn.metrics import mean_squared_error, r2_score"
   ]
  },
  {
   "cell_type": "code",
   "execution_count": 8,
   "metadata": {},
   "outputs": [],
   "source": [
    "# Step 1. Load the dataset\n",
    "# Credits:  California Cooperative Oceanic Fisheries Investigations\n",
    "# URL: https://www.kaggle.com/datasets/sohier/calcofi?select=bottle.csv\n",
    "# Drescription: The CalCOFI data set represents the longest (1949-present) \n",
    "# and most complete (more than 50,000 sampling stations) time series of \n",
    "# oceanographic and larval fish data in the world. It includes abundance \n",
    "# data on the larvae of over 250 species of fish; larval length frequency \n",
    "# data and egg abundance data on key commercial species; and oceanographic \n",
    "# and plankton data. The physical, chemical, and biological data collected \n",
    "# at regular time and space intervals quickly became valuable for \n",
    "# documenting climatic cycles in the California Current and a range of \n",
    "# biological responses to them. \n",
    "#df_raw = pd.read_csv('../data/raw/calcofi_reduced.csv')\n",
    "df_raw = pd.read_csv('../data/raw/calcofi_reduced.csv',index_col=0)"
   ]
  },
  {
   "cell_type": "code",
   "execution_count": 9,
   "metadata": {},
   "outputs": [
    {
     "name": "stdout",
     "output_type": "stream",
     "text": [
      "<class 'pandas.core.frame.DataFrame'>\n",
      "Int64Index: 300 entries, 0 to 299\n",
      "Data columns (total 2 columns):\n",
      " #   Column  Non-Null Count  Dtype  \n",
      "---  ------  --------------  -----  \n",
      " 0   Salnty  300 non-null    float64\n",
      " 1   T_degC  300 non-null    float64\n",
      "dtypes: float64(2)\n",
      "memory usage: 7.0 KB\n"
     ]
    }
   ],
   "source": [
    "# 1.1 Get basic info\n",
    "df_raw.info()"
   ]
  },
  {
   "cell_type": "code",
   "execution_count": 15,
   "metadata": {},
   "outputs": [
    {
     "data": {
      "text/html": [
       "<div>\n",
       "<style scoped>\n",
       "    .dataframe tbody tr th:only-of-type {\n",
       "        vertical-align: middle;\n",
       "    }\n",
       "\n",
       "    .dataframe tbody tr th {\n",
       "        vertical-align: top;\n",
       "    }\n",
       "\n",
       "    .dataframe thead th {\n",
       "        text-align: right;\n",
       "    }\n",
       "</style>\n",
       "<table border=\"1\" class=\"dataframe\">\n",
       "  <thead>\n",
       "    <tr style=\"text-align: right;\">\n",
       "      <th></th>\n",
       "      <th>Salnty</th>\n",
       "      <th>T_degC</th>\n",
       "    </tr>\n",
       "  </thead>\n",
       "  <tbody>\n",
       "    <tr>\n",
       "      <th>104</th>\n",
       "      <td>33.431</td>\n",
       "      <td>10.45</td>\n",
       "    </tr>\n",
       "    <tr>\n",
       "      <th>23</th>\n",
       "      <td>33.806</td>\n",
       "      <td>7.98</td>\n",
       "    </tr>\n",
       "    <tr>\n",
       "      <th>102</th>\n",
       "      <td>33.159</td>\n",
       "      <td>12.64</td>\n",
       "    </tr>\n",
       "    <tr>\n",
       "      <th>129</th>\n",
       "      <td>33.600</td>\n",
       "      <td>8.37</td>\n",
       "    </tr>\n",
       "    <tr>\n",
       "      <th>120</th>\n",
       "      <td>34.250</td>\n",
       "      <td>3.52</td>\n",
       "    </tr>\n",
       "    <tr>\n",
       "      <th>236</th>\n",
       "      <td>33.400</td>\n",
       "      <td>11.77</td>\n",
       "    </tr>\n",
       "    <tr>\n",
       "      <th>295</th>\n",
       "      <td>33.170</td>\n",
       "      <td>12.50</td>\n",
       "    </tr>\n",
       "    <tr>\n",
       "      <th>12</th>\n",
       "      <td>33.833</td>\n",
       "      <td>7.50</td>\n",
       "    </tr>\n",
       "    <tr>\n",
       "      <th>228</th>\n",
       "      <td>33.860</td>\n",
       "      <td>8.71</td>\n",
       "    </tr>\n",
       "    <tr>\n",
       "      <th>279</th>\n",
       "      <td>32.900</td>\n",
       "      <td>11.36</td>\n",
       "    </tr>\n",
       "  </tbody>\n",
       "</table>\n",
       "</div>"
      ],
      "text/plain": [
       "     Salnty  T_degC\n",
       "104  33.431   10.45\n",
       "23   33.806    7.98\n",
       "102  33.159   12.64\n",
       "129  33.600    8.37\n",
       "120  34.250    3.52\n",
       "236  33.400   11.77\n",
       "295  33.170   12.50\n",
       "12   33.833    7.50\n",
       "228  33.860    8.71\n",
       "279  32.900   11.36"
      ]
     },
     "execution_count": 15,
     "metadata": {},
     "output_type": "execute_result"
    }
   ],
   "source": [
    "# 1.2 Take a sample\n",
    "df_raw.sample(10)"
   ]
  },
  {
   "cell_type": "code",
   "execution_count": 18,
   "metadata": {},
   "outputs": [],
   "source": [
    "# 1.3 Transform if needed\n",
    "# variables caterogical y fecha\n",
    "# esa transformación afecta a todo el dataset (antes de dividirlo)"
   ]
  },
  {
   "cell_type": "code",
   "execution_count": 20,
   "metadata": {},
   "outputs": [],
   "source": [
    "# Step 2. Make a basic EDA\n",
    "\n",
    "#hacemos una copia del DF original\n",
    "df = df_raw.copy()"
   ]
  },
  {
   "cell_type": "code",
   "execution_count": 22,
   "metadata": {},
   "outputs": [],
   "source": [
    "# 2.1 Split the dataset so to avoid bias\n",
    "X=df['Salnty']\n",
    "y=df['T_degC']\n",
    "X_train, X_test, y_train, y_test = train_test_split(X,y,random_state=40) #el size predeterminaod es 75/25\n",
    "#X_train, X_test, y_train, y_test = train_test_split(X,y,train_size=0.30 random_state=40) #ejemplo con 70/30"
   ]
  },
  {
   "cell_type": "code",
   "execution_count": 23,
   "metadata": {},
   "outputs": [],
   "source": [
    "# 2.2 Join the train sets to ease insights\n",
    "df_train = pd.DataFrame({'Salinity':X_train,'Temperature': y_train})\n"
   ]
  },
  {
   "cell_type": "code",
   "execution_count": 24,
   "metadata": {},
   "outputs": [
    {
     "name": "stdout",
     "output_type": "stream",
     "text": [
      "<class 'pandas.core.frame.DataFrame'>\n",
      "Int64Index: 225 entries, 243 to 219\n",
      "Data columns (total 2 columns):\n",
      " #   Column       Non-Null Count  Dtype  \n",
      "---  ------       --------------  -----  \n",
      " 0   Salinity     225 non-null    float64\n",
      " 1   Temperature  225 non-null    float64\n",
      "dtypes: float64(2)\n",
      "memory usage: 5.3 KB\n"
     ]
    }
   ],
   "source": [
    "# 2.3 Get basic info\n",
    "df_train.info()"
   ]
  },
  {
   "cell_type": "code",
   "execution_count": 25,
   "metadata": {},
   "outputs": [
    {
     "data": {
      "text/html": [
       "<div>\n",
       "<style scoped>\n",
       "    .dataframe tbody tr th:only-of-type {\n",
       "        vertical-align: middle;\n",
       "    }\n",
       "\n",
       "    .dataframe tbody tr th {\n",
       "        vertical-align: top;\n",
       "    }\n",
       "\n",
       "    .dataframe thead th {\n",
       "        text-align: right;\n",
       "    }\n",
       "</style>\n",
       "<table border=\"1\" class=\"dataframe\">\n",
       "  <thead>\n",
       "    <tr style=\"text-align: right;\">\n",
       "      <th></th>\n",
       "      <th>Salinity</th>\n",
       "      <th>Temperature</th>\n",
       "    </tr>\n",
       "  </thead>\n",
       "  <tbody>\n",
       "    <tr>\n",
       "      <th>48</th>\n",
       "      <td>33.240</td>\n",
       "      <td>9.06</td>\n",
       "    </tr>\n",
       "    <tr>\n",
       "      <th>35</th>\n",
       "      <td>33.533</td>\n",
       "      <td>8.60</td>\n",
       "    </tr>\n",
       "    <tr>\n",
       "      <th>246</th>\n",
       "      <td>33.212</td>\n",
       "      <td>12.66</td>\n",
       "    </tr>\n",
       "    <tr>\n",
       "      <th>209</th>\n",
       "      <td>33.980</td>\n",
       "      <td>6.68</td>\n",
       "    </tr>\n",
       "    <tr>\n",
       "      <th>228</th>\n",
       "      <td>33.860</td>\n",
       "      <td>8.71</td>\n",
       "    </tr>\n",
       "    <tr>\n",
       "      <th>95</th>\n",
       "      <td>33.147</td>\n",
       "      <td>10.21</td>\n",
       "    </tr>\n",
       "    <tr>\n",
       "      <th>286</th>\n",
       "      <td>34.086</td>\n",
       "      <td>4.38</td>\n",
       "    </tr>\n",
       "    <tr>\n",
       "      <th>36</th>\n",
       "      <td>32.983</td>\n",
       "      <td>11.13</td>\n",
       "    </tr>\n",
       "    <tr>\n",
       "      <th>4</th>\n",
       "      <td>34.400</td>\n",
       "      <td>3.39</td>\n",
       "    </tr>\n",
       "    <tr>\n",
       "      <th>104</th>\n",
       "      <td>33.431</td>\n",
       "      <td>10.45</td>\n",
       "    </tr>\n",
       "  </tbody>\n",
       "</table>\n",
       "</div>"
      ],
      "text/plain": [
       "     Salinity  Temperature\n",
       "48     33.240         9.06\n",
       "35     33.533         8.60\n",
       "246    33.212        12.66\n",
       "209    33.980         6.68\n",
       "228    33.860         8.71\n",
       "95     33.147        10.21\n",
       "286    34.086         4.38\n",
       "36     32.983        11.13\n",
       "4      34.400         3.39\n",
       "104    33.431        10.45"
      ]
     },
     "execution_count": 25,
     "metadata": {},
     "output_type": "execute_result"
    }
   ],
   "source": [
    "# 2.4 Take a sample\n",
    "df_train.sample(10)"
   ]
  },
  {
   "cell_type": "code",
   "execution_count": 26,
   "metadata": {},
   "outputs": [
    {
     "data": {
      "text/html": [
       "<div>\n",
       "<style scoped>\n",
       "    .dataframe tbody tr th:only-of-type {\n",
       "        vertical-align: middle;\n",
       "    }\n",
       "\n",
       "    .dataframe tbody tr th {\n",
       "        vertical-align: top;\n",
       "    }\n",
       "\n",
       "    .dataframe thead th {\n",
       "        text-align: right;\n",
       "    }\n",
       "</style>\n",
       "<table border=\"1\" class=\"dataframe\">\n",
       "  <thead>\n",
       "    <tr style=\"text-align: right;\">\n",
       "      <th></th>\n",
       "      <th>Salinity</th>\n",
       "      <th>Temperature</th>\n",
       "    </tr>\n",
       "  </thead>\n",
       "  <tbody>\n",
       "    <tr>\n",
       "      <th>count</th>\n",
       "      <td>225.000000</td>\n",
       "      <td>225.000000</td>\n",
       "    </tr>\n",
       "    <tr>\n",
       "      <th>mean</th>\n",
       "      <td>33.605831</td>\n",
       "      <td>7.937244</td>\n",
       "    </tr>\n",
       "    <tr>\n",
       "      <th>std</th>\n",
       "      <td>0.559792</td>\n",
       "      <td>2.996976</td>\n",
       "    </tr>\n",
       "    <tr>\n",
       "      <th>min</th>\n",
       "      <td>32.630000</td>\n",
       "      <td>2.780000</td>\n",
       "    </tr>\n",
       "    <tr>\n",
       "      <th>25%</th>\n",
       "      <td>33.000000</td>\n",
       "      <td>5.020000</td>\n",
       "    </tr>\n",
       "    <tr>\n",
       "      <th>50%</th>\n",
       "      <td>33.800000</td>\n",
       "      <td>8.180000</td>\n",
       "    </tr>\n",
       "    <tr>\n",
       "      <th>75%</th>\n",
       "      <td>34.101000</td>\n",
       "      <td>10.470000</td>\n",
       "    </tr>\n",
       "    <tr>\n",
       "      <th>max</th>\n",
       "      <td>34.430000</td>\n",
       "      <td>12.660000</td>\n",
       "    </tr>\n",
       "  </tbody>\n",
       "</table>\n",
       "</div>"
      ],
      "text/plain": [
       "         Salinity  Temperature\n",
       "count  225.000000   225.000000\n",
       "mean    33.605831     7.937244\n",
       "std      0.559792     2.996976\n",
       "min     32.630000     2.780000\n",
       "25%     33.000000     5.020000\n",
       "50%     33.800000     8.180000\n",
       "75%     34.101000    10.470000\n",
       "max     34.430000    12.660000"
      ]
     },
     "execution_count": 26,
     "metadata": {},
     "output_type": "execute_result"
    }
   ],
   "source": [
    "# 2.5 Describe the numerical and date variables\n",
    "df_train.describe()"
   ]
  },
  {
   "cell_type": "code",
   "execution_count": 29,
   "metadata": {},
   "outputs": [],
   "source": [
    "# 2.6 Describe the categorical variables\n",
    "#utilizar value_counts() en caso de tener variables categóricas\n",
    "#para hacer el histograma, debemos cambiar las categorical a numérico"
   ]
  },
  {
   "cell_type": "code",
   "execution_count": 28,
   "metadata": {},
   "outputs": [
    {
     "data": {
      "image/png": "[encoded data removed]",
      "text/plain": [
       "<Figure size 576x288 with 2 Axes>"
      ]
     },
     "metadata": {
      "needs_background": "light"
     },
     "output_type": "display_data"
    }
   ],
   "source": [
    "# 2.7 Perform univariate analysis - histograms\n",
    "df_train.hist(figsize=(8,4),sharey=True, alpha=0.6)\n",
    "plt.show()"
   ]
  },
  {
   "cell_type": "code",
   "execution_count": 31,
   "metadata": {},
   "outputs": [
    {
     "data": {
      "image/png": "[encoded data removed]",
      "text/plain": [
       "<Figure size 576x288 with 2 Axes>"
      ]
     },
     "metadata": {
      "needs_background": "light"
     },
     "output_type": "display_data"
    }
   ],
   "source": [
    "# 2.8 Perform univariate analysis - boxplots\n",
    "fig,ax = plt.subplots(1,2,figsize=(8,4))\n",
    "df_train[['Temperature']].boxplot(ax=ax[0])\n",
    "df_train[['Salinity']].boxplot(ax=ax[1])\n",
    "plt.show()"
   ]
  },
  {
   "cell_type": "code",
   "execution_count": 33,
   "metadata": {},
   "outputs": [
    {
     "data": {
      "image/png": "[encoded data removed]",
      "text/plain": [
       "<Figure size 432x432 with 4 Axes>"
      ]
     },
     "metadata": {
      "needs_background": "light"
     },
     "output_type": "display_data"
    }
   ],
   "source": [
    "# 2.9 Perform bivariate analysis - scatter matrix\n",
    "pd.plotting.scatter_matrix(df_train,diagonal='kde',figsize=(6,6))\n",
    "plt.show()"
   ]
  },
  {
   "cell_type": "code",
   "execution_count": null,
   "metadata": {},
   "outputs": [],
   "source": [
    "# 2.10 Perform correlation analysis - Pearson or Point Biserial\n",
    "#este caso no tiene variables que no estén co-relacionadas, solo tengo 1 variable"
   ]
  },
  {
   "cell_type": "code",
   "execution_count": null,
   "metadata": {},
   "outputs": [],
   "source": [
    "# 2.11 Perform multivariate analysis - VIF\n",
    "# no lo hacemos porque tenemos solo 1 variable"
   ]
  },
  {
   "cell_type": "code",
   "execution_count": null,
   "metadata": {},
   "outputs": [],
   "source": [
    "# Step 3. Create and evaluate model - Define your approach and goals\n",
    "# goal - pronosticar en base a las variables\n",
    "#utilizo los modelos que corresponda. Hay que ir escribiendo el objetivo y cómo se hará"
   ]
  },
  {
   "cell_type": "markdown",
   "metadata": {},
   "source": [
    "El objetivo es pronosticar la Temperatura respecto a la Salinidad"
   ]
  },
  {
   "cell_type": "code",
   "execution_count": 34,
   "metadata": {},
   "outputs": [
    {
     "name": "stdout",
     "output_type": "stream",
     "text": [
      "The Score is  0.8454\n"
     ]
    }
   ],
   "source": [
    "# 3.1 Perform model fit - A\n",
    "sklm = LinearRegression()\n",
    "#cuando solo es 1 variable predictora, skLearn no lo interpreta como una columna, hay que ponerle .to_frame, con 2 o + no se necesita.\n",
    "sklm.fit(X_train.to_frame(),y_train)\n",
    "score = sklm.score(X_train.to_frame(), y_train)\n",
    "# score R^2 :^proportion if the variance in DV explained by IV\n",
    "print(f'The Score is {score: .4f}')"
   ]
  },
  {
   "cell_type": "code",
   "execution_count": 36,
   "metadata": {},
   "outputs": [
    {
     "name": "stdout",
     "output_type": "stream",
     "text": [
      "The R^2 is 0.7863151702808187\n",
      "The RMSE is 1.316206920253402\n"
     ]
    }
   ],
   "source": [
    "# se corre en dataset de pruebas\n",
    "predictions = sklm.predict(X_test.to_frame()) # to_frame porque es 1 variable sola\n",
    "print(f'The R^2 is {r2_score(y_test,predictions)}')\n",
    "#RMSE: Root mean squared error\n",
    "print(f'The RMSE is {mean_squared_error(y_test,predictions, squared=False)}')"
   ]
  },
  {
   "cell_type": "code",
   "execution_count": 37,
   "metadata": {},
   "outputs": [
    {
     "data": {
      "image/png": "[encoded data removed]",
      "text/plain": [
       "<Figure size 432x288 with 1 Axes>"
      ]
     },
     "metadata": {
      "needs_background": "light"
     },
     "output_type": "display_data"
    }
   ],
   "source": [
    "plt.scatter(x=X_test,y=y_test,color='Blue')\n",
    "plt.scatter(x=X_test,y=predictions,color='Red')\n",
    "plt.show()"
   ]
  },
  {
   "cell_type": "code",
   "execution_count": 39,
   "metadata": {},
   "outputs": [
    {
     "name": "stdout",
     "output_type": "stream",
     "text": [
      "                            OLS Regression Results                            \n",
      "==============================================================================\n",
      "Dep. Variable:            Temperature   R-squared:                       0.845\n",
      "Model:                            OLS   Adj. R-squared:                  0.845\n",
      "Method:                 Least Squares   F-statistic:                     1219.\n",
      "Date:                Wed, 06 Jul 2022   Prob (F-statistic):           2.31e-92\n",
      "Time:                        22:18:00   Log-Likelihood:                -355.70\n",
      "No. Observations:                 225   AIC:                             715.4\n",
      "Df Residuals:                     223   BIC:                             722.2\n",
      "Df Model:                           1                                         \n",
      "Covariance Type:            nonrobust                                         \n",
      "==============================================================================\n",
      "                 coef    std err          t      P>|t|      [0.025      0.975]\n",
      "------------------------------------------------------------------------------\n",
      "Intercept    173.3618      4.738     36.590      0.000     164.025     182.699\n",
      "Salinity      -4.9225      0.141    -34.919      0.000      -5.200      -4.645\n",
      "==============================================================================\n",
      "Omnibus:                        1.617   Durbin-Watson:                   2.093\n",
      "Prob(Omnibus):                  0.446   Jarque-Bera (JB):                1.319\n",
      "Skew:                           0.173   Prob(JB):                        0.517\n",
      "Kurtosis:                       3.147   Cond. No.                     2.02e+03\n",
      "==============================================================================\n",
      "\n",
      "Notes:\n",
      "[1] Standard Errors assume that the covariance matrix of the errors is correctly specified.\n",
      "[2] The condition number is large, 2.02e+03. This might indicate that there are\n",
      "strong multicollinearity or other numerical problems.\n"
     ]
    }
   ],
   "source": [
    "# 3.2 Perform model fit - B\n",
    "# Lo hacemos de otra manera\n",
    "results = smf.ols('Temperature ~ Salinity', data=df_train).fit()\n",
    "print(results.summary())"
   ]
  },
  {
   "cell_type": "code",
   "execution_count": null,
   "metadata": {},
   "outputs": [],
   "source": [
    "# 3.3 Calculate metrics on model A"
   ]
  },
  {
   "cell_type": "code",
   "execution_count": null,
   "metadata": {},
   "outputs": [],
   "source": [
    "# 3.4 Calculate metrics on model B"
   ]
  },
  {
   "cell_type": "code",
   "execution_count": 41,
   "metadata": {},
   "outputs": [],
   "source": [
    "# Step 4. Write up your conclusions\n",
    "\n",
    "# Poner las conclusiones y recomendaciones\n",
    "# Hemos utilizado los siguientes pasos para calcular\n",
    "# Hemos tomado la decisión de quitar valores\n",
    "# Vemos que no se asemeja a la realidad \n",
    "# Este modelo puede ajustarse a los valores reales con TAL resultado\n"
   ]
  }
 ],
 "metadata": {
  "kernelspec": {
   "display_name": "Python 3.8.13 64-bit ('3.8.13')",
   "language": "python",
   "name": "python3"
  },
  "language_info": {
   "codemirror_mode": {
    "name": "ipython",
    "version": 3
   },
   "file_extension": ".py",
   "mimetype": "text/x-python",
   "name": "python",
   "nbconvert_exporter": "python",
   "pygments_lexer": "ipython3",
   "version": "3.8.13"
  },
  "orig_nbformat": 4,
  "vscode": {
   "interpreter": {
    "hash": "110cc1dee26208153f2972f08a2ad52b6a56238dc66d48e87fb757ef2996db56"
   }
  }
 },
 "nbformat": 4,
 "nbformat_minor": 2
}
